{
 "cells": [
  {
   "cell_type": "markdown",
   "id": "82425066",
   "metadata": {},
   "source": [
    "# Netflix Business Case study - EDA using Python"
   ]
  },
  {
   "cell_type": "markdown",
   "id": "04802697",
   "metadata": {},
   "source": [
    "Objectives of the Assignment\n",
    "•\tPerform EDA on the given dataset and find insights.\n",
    "•\tProvide Useful Insights and Business recommendations that can help the business to grow.\n"
   ]
  },
  {
   "cell_type": "markdown",
   "id": "7de8035a",
   "metadata": {},
   "source": [
    "# 1. Importing Libraries , Loading the data and Basic Observations"
   ]
  },
  {
   "cell_type": "code",
   "execution_count": 1,
   "id": "9a44a639",
   "metadata": {},
   "outputs": [],
   "source": [
    "import numpy as np\n",
    "import pandas as pd\n",
    "import matplotlib.pyplot as plt\n",
    "import seaborn as sns"
   ]
  },
  {
   "cell_type": "code",
   "execution_count": 2,
   "id": "95bab0d6",
   "metadata": {},
   "outputs": [],
   "source": [
    "df=pd.read_csv(r'C:\\Users\\mahwi\\OneDrive\\Desktop\\Assignment no 1\\Netflix_dataset.csv')"
   ]
  },
  {
   "cell_type": "code",
   "execution_count": 3,
   "id": "e3a8b2cf",
   "metadata": {},
   "outputs": [
    {
     "data": {
      "text/html": [
       "<div>\n",
       "<style scoped>\n",
       "    .dataframe tbody tr th:only-of-type {\n",
       "        vertical-align: middle;\n",
       "    }\n",
       "\n",
       "    .dataframe tbody tr th {\n",
       "        vertical-align: top;\n",
       "    }\n",
       "\n",
       "    .dataframe thead th {\n",
       "        text-align: right;\n",
       "    }\n",
       "</style>\n",
       "<table border=\"1\" class=\"dataframe\">\n",
       "  <thead>\n",
       "    <tr style=\"text-align: right;\">\n",
       "      <th></th>\n",
       "      <th>show_id</th>\n",
       "      <th>type</th>\n",
       "      <th>title</th>\n",
       "      <th>director</th>\n",
       "      <th>cast</th>\n",
       "      <th>country</th>\n",
       "      <th>date_added</th>\n",
       "      <th>release_year</th>\n",
       "      <th>rating</th>\n",
       "      <th>duration</th>\n",
       "      <th>listed_in</th>\n",
       "      <th>description</th>\n",
       "    </tr>\n",
       "  </thead>\n",
       "  <tbody>\n",
       "    <tr>\n",
       "      <th>0</th>\n",
       "      <td>s1</td>\n",
       "      <td>Movie</td>\n",
       "      <td>Dick Johnson Is Dead</td>\n",
       "      <td>Kirsten Johnson</td>\n",
       "      <td>NaN</td>\n",
       "      <td>United States</td>\n",
       "      <td>September 25, 2021</td>\n",
       "      <td>2020</td>\n",
       "      <td>PG-13</td>\n",
       "      <td>90 min</td>\n",
       "      <td>Documentaries</td>\n",
       "      <td>As her father nears the end of his life, filmm...</td>\n",
       "    </tr>\n",
       "    <tr>\n",
       "      <th>1</th>\n",
       "      <td>s2</td>\n",
       "      <td>TV Show</td>\n",
       "      <td>Blood &amp; Water</td>\n",
       "      <td>NaN</td>\n",
       "      <td>Ama Qamata, Khosi Ngema, Gail Mabalane, Thaban...</td>\n",
       "      <td>South Africa</td>\n",
       "      <td>September 24, 2021</td>\n",
       "      <td>2021</td>\n",
       "      <td>TV-MA</td>\n",
       "      <td>2 Seasons</td>\n",
       "      <td>International TV Shows, TV Dramas, TV Mysteries</td>\n",
       "      <td>After crossing paths at a party, a Cape Town t...</td>\n",
       "    </tr>\n",
       "    <tr>\n",
       "      <th>2</th>\n",
       "      <td>s3</td>\n",
       "      <td>TV Show</td>\n",
       "      <td>Ganglands</td>\n",
       "      <td>Julien Leclercq</td>\n",
       "      <td>Sami Bouajila, Tracy Gotoas, Samuel Jouy, Nabi...</td>\n",
       "      <td>NaN</td>\n",
       "      <td>September 24, 2021</td>\n",
       "      <td>2021</td>\n",
       "      <td>TV-MA</td>\n",
       "      <td>1 Season</td>\n",
       "      <td>Crime TV Shows, International TV Shows, TV Act...</td>\n",
       "      <td>To protect his family from a powerful drug lor...</td>\n",
       "    </tr>\n",
       "    <tr>\n",
       "      <th>3</th>\n",
       "      <td>s4</td>\n",
       "      <td>TV Show</td>\n",
       "      <td>Jailbirds New Orleans</td>\n",
       "      <td>NaN</td>\n",
       "      <td>NaN</td>\n",
       "      <td>NaN</td>\n",
       "      <td>September 24, 2021</td>\n",
       "      <td>2021</td>\n",
       "      <td>TV-MA</td>\n",
       "      <td>1 Season</td>\n",
       "      <td>Docuseries, Reality TV</td>\n",
       "      <td>Feuds, flirtations and toilet talk go down amo...</td>\n",
       "    </tr>\n",
       "    <tr>\n",
       "      <th>4</th>\n",
       "      <td>s5</td>\n",
       "      <td>TV Show</td>\n",
       "      <td>Kota Factory</td>\n",
       "      <td>NaN</td>\n",
       "      <td>Mayur More, Jitendra Kumar, Ranjan Raj, Alam K...</td>\n",
       "      <td>India</td>\n",
       "      <td>September 24, 2021</td>\n",
       "      <td>2021</td>\n",
       "      <td>TV-MA</td>\n",
       "      <td>2 Seasons</td>\n",
       "      <td>International TV Shows, Romantic TV Shows, TV ...</td>\n",
       "      <td>In a city of coaching centers known to train I...</td>\n",
       "    </tr>\n",
       "  </tbody>\n",
       "</table>\n",
       "</div>"
      ],
      "text/plain": [
       "  show_id     type                  title         director  \\\n",
       "0      s1    Movie   Dick Johnson Is Dead  Kirsten Johnson   \n",
       "1      s2  TV Show          Blood & Water              NaN   \n",
       "2      s3  TV Show              Ganglands  Julien Leclercq   \n",
       "3      s4  TV Show  Jailbirds New Orleans              NaN   \n",
       "4      s5  TV Show           Kota Factory              NaN   \n",
       "\n",
       "                                                cast        country  \\\n",
       "0                                                NaN  United States   \n",
       "1  Ama Qamata, Khosi Ngema, Gail Mabalane, Thaban...   South Africa   \n",
       "2  Sami Bouajila, Tracy Gotoas, Samuel Jouy, Nabi...            NaN   \n",
       "3                                                NaN            NaN   \n",
       "4  Mayur More, Jitendra Kumar, Ranjan Raj, Alam K...          India   \n",
       "\n",
       "           date_added  release_year rating   duration  \\\n",
       "0  September 25, 2021          2020  PG-13     90 min   \n",
       "1  September 24, 2021          2021  TV-MA  2 Seasons   \n",
       "2  September 24, 2021          2021  TV-MA   1 Season   \n",
       "3  September 24, 2021          2021  TV-MA   1 Season   \n",
       "4  September 24, 2021          2021  TV-MA  2 Seasons   \n",
       "\n",
       "                                           listed_in  \\\n",
       "0                                      Documentaries   \n",
       "1    International TV Shows, TV Dramas, TV Mysteries   \n",
       "2  Crime TV Shows, International TV Shows, TV Act...   \n",
       "3                             Docuseries, Reality TV   \n",
       "4  International TV Shows, Romantic TV Shows, TV ...   \n",
       "\n",
       "                                         description  \n",
       "0  As her father nears the end of his life, filmm...  \n",
       "1  After crossing paths at a party, a Cape Town t...  \n",
       "2  To protect his family from a powerful drug lor...  \n",
       "3  Feuds, flirtations and toilet talk go down amo...  \n",
       "4  In a city of coaching centers known to train I...  "
      ]
     },
     "execution_count": 3,
     "metadata": {},
     "output_type": "execute_result"
    }
   ],
   "source": [
    "df.head()"
   ]
  },
  {
   "cell_type": "code",
   "execution_count": 4,
   "id": "4e05c8dc",
   "metadata": {},
   "outputs": [
    {
     "data": {
      "text/plain": [
       "(8807, 12)"
      ]
     },
     "execution_count": 4,
     "metadata": {},
     "output_type": "execute_result"
    }
   ],
   "source": [
    "df.shape"
   ]
  },
  {
   "cell_type": "code",
   "execution_count": 5,
   "id": "85c49e97",
   "metadata": {},
   "outputs": [
    {
     "name": "stdout",
     "output_type": "stream",
     "text": [
      "<class 'pandas.core.frame.DataFrame'>\n",
      "RangeIndex: 8807 entries, 0 to 8806\n",
      "Data columns (total 12 columns):\n",
      " #   Column        Non-Null Count  Dtype \n",
      "---  ------        --------------  ----- \n",
      " 0   show_id       8807 non-null   object\n",
      " 1   type          8807 non-null   object\n",
      " 2   title         8807 non-null   object\n",
      " 3   director      6173 non-null   object\n",
      " 4   cast          7982 non-null   object\n",
      " 5   country       7976 non-null   object\n",
      " 6   date_added    8797 non-null   object\n",
      " 7   release_year  8807 non-null   int64 \n",
      " 8   rating        8803 non-null   object\n",
      " 9   duration      8804 non-null   object\n",
      " 10  listed_in     8807 non-null   object\n",
      " 11  description   8807 non-null   object\n",
      "dtypes: int64(1), object(11)\n",
      "memory usage: 825.8+ KB\n"
     ]
    }
   ],
   "source": [
    "df.info()"
   ]
  },
  {
   "cell_type": "code",
   "execution_count": 6,
   "id": "4f4e89ef",
   "metadata": {},
   "outputs": [
    {
     "data": {
      "text/html": [
       "<div>\n",
       "<style scoped>\n",
       "    .dataframe tbody tr th:only-of-type {\n",
       "        vertical-align: middle;\n",
       "    }\n",
       "\n",
       "    .dataframe tbody tr th {\n",
       "        vertical-align: top;\n",
       "    }\n",
       "\n",
       "    .dataframe thead th {\n",
       "        text-align: right;\n",
       "    }\n",
       "</style>\n",
       "<table border=\"1\" class=\"dataframe\">\n",
       "  <thead>\n",
       "    <tr style=\"text-align: right;\">\n",
       "      <th></th>\n",
       "      <th>release_year</th>\n",
       "    </tr>\n",
       "  </thead>\n",
       "  <tbody>\n",
       "    <tr>\n",
       "      <th>count</th>\n",
       "      <td>8807.000000</td>\n",
       "    </tr>\n",
       "    <tr>\n",
       "      <th>mean</th>\n",
       "      <td>2014.180198</td>\n",
       "    </tr>\n",
       "    <tr>\n",
       "      <th>std</th>\n",
       "      <td>8.819312</td>\n",
       "    </tr>\n",
       "    <tr>\n",
       "      <th>min</th>\n",
       "      <td>1925.000000</td>\n",
       "    </tr>\n",
       "    <tr>\n",
       "      <th>25%</th>\n",
       "      <td>2013.000000</td>\n",
       "    </tr>\n",
       "    <tr>\n",
       "      <th>50%</th>\n",
       "      <td>2017.000000</td>\n",
       "    </tr>\n",
       "    <tr>\n",
       "      <th>75%</th>\n",
       "      <td>2019.000000</td>\n",
       "    </tr>\n",
       "    <tr>\n",
       "      <th>max</th>\n",
       "      <td>2021.000000</td>\n",
       "    </tr>\n",
       "  </tbody>\n",
       "</table>\n",
       "</div>"
      ],
      "text/plain": [
       "       release_year\n",
       "count   8807.000000\n",
       "mean    2014.180198\n",
       "std        8.819312\n",
       "min     1925.000000\n",
       "25%     2013.000000\n",
       "50%     2017.000000\n",
       "75%     2019.000000\n",
       "max     2021.000000"
      ]
     },
     "execution_count": 6,
     "metadata": {},
     "output_type": "execute_result"
    }
   ],
   "source": [
    "df.describe()"
   ]
  },
  {
   "cell_type": "markdown",
   "id": "aabdbaa0",
   "metadata": {},
   "source": [
    "Only single column(release_Year) is having df numerical values.Rest all the columns are having categorical data."
   ]
  },
  {
   "cell_type": "code",
   "execution_count": 7,
   "id": "0ec38606",
   "metadata": {},
   "outputs": [
    {
     "data": {
      "text/plain": [
       "show_id         8807\n",
       "type               2\n",
       "title           8807\n",
       "director        4528\n",
       "cast            7692\n",
       "country          748\n",
       "date_added      1767\n",
       "release_year      74\n",
       "rating            17\n",
       "duration         220\n",
       "listed_in        514\n",
       "description     8775\n",
       "dtype: int64"
      ]
     },
     "execution_count": 7,
     "metadata": {},
     "output_type": "execute_result"
    }
   ],
   "source": [
    "df.nunique()"
   ]
  },
  {
   "cell_type": "markdown",
   "id": "7310dbcb",
   "metadata": {},
   "source": [
    "Total 8807 movies/TV shows data is provided in the dataset."
   ]
  },
  {
   "cell_type": "code",
   "execution_count": 10,
   "id": "678062f0",
   "metadata": {},
   "outputs": [
    {
     "data": {
      "text/plain": [
       "show_id         8807\n",
       "type            8807\n",
       "title           8807\n",
       "director        6173\n",
       "cast            7982\n",
       "country         7976\n",
       "date_added      8797\n",
       "release_year    8807\n",
       "rating          8803\n",
       "duration        8804\n",
       "listed_in       8807\n",
       "description     8807\n",
       "dtype: int64"
      ]
     },
     "execution_count": 10,
     "metadata": {},
     "output_type": "execute_result"
    }
   ],
   "source": [
    "df.count()"
   ]
  },
  {
   "cell_type": "markdown",
   "id": "bc47ad58",
   "metadata": {},
   "source": [
    "# 2. Data Cleaning"
   ]
  },
  {
   "cell_type": "markdown",
   "id": "4632aef0",
   "metadata": {},
   "source": [
    "a.\tOverall null values in each column"
   ]
  },
  {
   "cell_type": "code",
   "execution_count": 11,
   "id": "f2e7e04b",
   "metadata": {},
   "outputs": [
    {
     "data": {
      "text/plain": [
       "show_id            0\n",
       "type               0\n",
       "title              0\n",
       "director        2634\n",
       "cast             825\n",
       "country          831\n",
       "date_added        10\n",
       "release_year       0\n",
       "rating             4\n",
       "duration           3\n",
       "listed_in          0\n",
       "description        0\n",
       "dtype: int64"
      ]
     },
     "execution_count": 11,
     "metadata": {},
     "output_type": "execute_result"
    }
   ],
   "source": [
    "df.isna().sum()"
   ]
  },
  {
   "cell_type": "markdown",
   "id": "a7ab9488",
   "metadata": {},
   "source": [
    "3 missing values are found in duration column"
   ]
  },
  {
   "cell_type": "code",
   "execution_count": 12,
   "id": "d2209e46",
   "metadata": {},
   "outputs": [
    {
     "data": {
      "text/html": [
       "<div>\n",
       "<style scoped>\n",
       "    .dataframe tbody tr th:only-of-type {\n",
       "        vertical-align: middle;\n",
       "    }\n",
       "\n",
       "    .dataframe tbody tr th {\n",
       "        vertical-align: top;\n",
       "    }\n",
       "\n",
       "    .dataframe thead th {\n",
       "        text-align: right;\n",
       "    }\n",
       "</style>\n",
       "<table border=\"1\" class=\"dataframe\">\n",
       "  <thead>\n",
       "    <tr style=\"text-align: right;\">\n",
       "      <th></th>\n",
       "      <th>show_id</th>\n",
       "      <th>type</th>\n",
       "      <th>title</th>\n",
       "      <th>director</th>\n",
       "      <th>cast</th>\n",
       "      <th>country</th>\n",
       "      <th>date_added</th>\n",
       "      <th>release_year</th>\n",
       "      <th>rating</th>\n",
       "      <th>duration</th>\n",
       "      <th>listed_in</th>\n",
       "      <th>description</th>\n",
       "    </tr>\n",
       "  </thead>\n",
       "  <tbody>\n",
       "    <tr>\n",
       "      <th>5541</th>\n",
       "      <td>s5542</td>\n",
       "      <td>Movie</td>\n",
       "      <td>Louis C.K. 2017</td>\n",
       "      <td>Louis C.K.</td>\n",
       "      <td>Louis C.K.</td>\n",
       "      <td>United States</td>\n",
       "      <td>April 4, 2017</td>\n",
       "      <td>2017</td>\n",
       "      <td>74 min</td>\n",
       "      <td>NaN</td>\n",
       "      <td>Movies</td>\n",
       "      <td>Louis C.K. muses on religion, eternal love, gi...</td>\n",
       "    </tr>\n",
       "    <tr>\n",
       "      <th>5794</th>\n",
       "      <td>s5795</td>\n",
       "      <td>Movie</td>\n",
       "      <td>Louis C.K.: Hilarious</td>\n",
       "      <td>Louis C.K.</td>\n",
       "      <td>Louis C.K.</td>\n",
       "      <td>United States</td>\n",
       "      <td>September 16, 2016</td>\n",
       "      <td>2010</td>\n",
       "      <td>84 min</td>\n",
       "      <td>NaN</td>\n",
       "      <td>Movies</td>\n",
       "      <td>Emmy-winning comedy writer Louis C.K. brings h...</td>\n",
       "    </tr>\n",
       "    <tr>\n",
       "      <th>5813</th>\n",
       "      <td>s5814</td>\n",
       "      <td>Movie</td>\n",
       "      <td>Louis C.K.: Live at the Comedy Store</td>\n",
       "      <td>Louis C.K.</td>\n",
       "      <td>Louis C.K.</td>\n",
       "      <td>United States</td>\n",
       "      <td>August 15, 2016</td>\n",
       "      <td>2015</td>\n",
       "      <td>66 min</td>\n",
       "      <td>NaN</td>\n",
       "      <td>Movies</td>\n",
       "      <td>The comic puts his trademark hilarious/thought...</td>\n",
       "    </tr>\n",
       "  </tbody>\n",
       "</table>\n",
       "</div>"
      ],
      "text/plain": [
       "     show_id   type                                 title    director  \\\n",
       "5541   s5542  Movie                       Louis C.K. 2017  Louis C.K.   \n",
       "5794   s5795  Movie                 Louis C.K.: Hilarious  Louis C.K.   \n",
       "5813   s5814  Movie  Louis C.K.: Live at the Comedy Store  Louis C.K.   \n",
       "\n",
       "            cast        country          date_added  release_year  rating  \\\n",
       "5541  Louis C.K.  United States       April 4, 2017          2017  74 min   \n",
       "5794  Louis C.K.  United States  September 16, 2016          2010  84 min   \n",
       "5813  Louis C.K.  United States     August 15, 2016          2015  66 min   \n",
       "\n",
       "     duration listed_in                                        description  \n",
       "5541      NaN    Movies  Louis C.K. muses on religion, eternal love, gi...  \n",
       "5794      NaN    Movies  Emmy-winning comedy writer Louis C.K. brings h...  \n",
       "5813      NaN    Movies  The comic puts his trademark hilarious/thought...  "
      ]
     },
     "execution_count": 12,
     "metadata": {},
     "output_type": "execute_result"
    }
   ],
   "source": [
    "df[df['duration'].isna()]"
   ]
  },
  {
   "cell_type": "code",
   "execution_count": 13,
   "id": "06970969",
   "metadata": {},
   "outputs": [],
   "source": [
    "index = df[df['duration'].isna()].index"
   ]
  },
  {
   "cell_type": "markdown",
   "id": "95947429",
   "metadata": {},
   "source": [
    "b.\tImpute null values using fillna() method"
   ]
  },
  {
   "cell_type": "code",
   "execution_count": 14,
   "id": "64aab86a",
   "metadata": {},
   "outputs": [],
   "source": [
    "df.loc[index] = df.loc[index].fillna(method = 'ffill' , axis = 1)"
   ]
  },
  {
   "cell_type": "markdown",
   "id": "236cb6d1",
   "metadata": {},
   "source": [
    "c.\tReplace the wrong entries in rating column"
   ]
  },
  {
   "cell_type": "code",
   "execution_count": 15,
   "id": "3baecb86",
   "metadata": {},
   "outputs": [],
   "source": [
    "df.loc[index ,'rating'] = 'Not Available'"
   ]
  },
  {
   "cell_type": "code",
   "execution_count": 16,
   "id": "eeca16d2",
   "metadata": {},
   "outputs": [
    {
     "data": {
      "text/html": [
       "<div>\n",
       "<style scoped>\n",
       "    .dataframe tbody tr th:only-of-type {\n",
       "        vertical-align: middle;\n",
       "    }\n",
       "\n",
       "    .dataframe tbody tr th {\n",
       "        vertical-align: top;\n",
       "    }\n",
       "\n",
       "    .dataframe thead th {\n",
       "        text-align: right;\n",
       "    }\n",
       "</style>\n",
       "<table border=\"1\" class=\"dataframe\">\n",
       "  <thead>\n",
       "    <tr style=\"text-align: right;\">\n",
       "      <th></th>\n",
       "      <th>show_id</th>\n",
       "      <th>type</th>\n",
       "      <th>title</th>\n",
       "      <th>director</th>\n",
       "      <th>cast</th>\n",
       "      <th>country</th>\n",
       "      <th>date_added</th>\n",
       "      <th>release_year</th>\n",
       "      <th>rating</th>\n",
       "      <th>duration</th>\n",
       "      <th>listed_in</th>\n",
       "      <th>description</th>\n",
       "    </tr>\n",
       "  </thead>\n",
       "  <tbody>\n",
       "    <tr>\n",
       "      <th>5541</th>\n",
       "      <td>s5542</td>\n",
       "      <td>Movie</td>\n",
       "      <td>Louis C.K. 2017</td>\n",
       "      <td>Louis C.K.</td>\n",
       "      <td>Louis C.K.</td>\n",
       "      <td>United States</td>\n",
       "      <td>April 4, 2017</td>\n",
       "      <td>2017</td>\n",
       "      <td>Not Available</td>\n",
       "      <td>74 min</td>\n",
       "      <td>Movies</td>\n",
       "      <td>Louis C.K. muses on religion, eternal love, gi...</td>\n",
       "    </tr>\n",
       "    <tr>\n",
       "      <th>5794</th>\n",
       "      <td>s5795</td>\n",
       "      <td>Movie</td>\n",
       "      <td>Louis C.K.: Hilarious</td>\n",
       "      <td>Louis C.K.</td>\n",
       "      <td>Louis C.K.</td>\n",
       "      <td>United States</td>\n",
       "      <td>September 16, 2016</td>\n",
       "      <td>2010</td>\n",
       "      <td>Not Available</td>\n",
       "      <td>84 min</td>\n",
       "      <td>Movies</td>\n",
       "      <td>Emmy-winning comedy writer Louis C.K. brings h...</td>\n",
       "    </tr>\n",
       "    <tr>\n",
       "      <th>5813</th>\n",
       "      <td>s5814</td>\n",
       "      <td>Movie</td>\n",
       "      <td>Louis C.K.: Live at the Comedy Store</td>\n",
       "      <td>Louis C.K.</td>\n",
       "      <td>Louis C.K.</td>\n",
       "      <td>United States</td>\n",
       "      <td>August 15, 2016</td>\n",
       "      <td>2015</td>\n",
       "      <td>Not Available</td>\n",
       "      <td>66 min</td>\n",
       "      <td>Movies</td>\n",
       "      <td>The comic puts his trademark hilarious/thought...</td>\n",
       "    </tr>\n",
       "  </tbody>\n",
       "</table>\n",
       "</div>"
      ],
      "text/plain": [
       "     show_id   type                                 title    director  \\\n",
       "5541   s5542  Movie                       Louis C.K. 2017  Louis C.K.   \n",
       "5794   s5795  Movie                 Louis C.K.: Hilarious  Louis C.K.   \n",
       "5813   s5814  Movie  Louis C.K.: Live at the Comedy Store  Louis C.K.   \n",
       "\n",
       "            cast        country          date_added release_year  \\\n",
       "5541  Louis C.K.  United States       April 4, 2017         2017   \n",
       "5794  Louis C.K.  United States  September 16, 2016         2010   \n",
       "5813  Louis C.K.  United States     August 15, 2016         2015   \n",
       "\n",
       "             rating duration listed_in  \\\n",
       "5541  Not Available   74 min    Movies   \n",
       "5794  Not Available   84 min    Movies   \n",
       "5813  Not Available   66 min    Movies   \n",
       "\n",
       "                                            description  \n",
       "5541  Louis C.K. muses on religion, eternal love, gi...  \n",
       "5794  Emmy-winning comedy writer Louis C.K. brings h...  \n",
       "5813  The comic puts his trademark hilarious/thought...  "
      ]
     },
     "execution_count": 16,
     "metadata": {},
     "output_type": "execute_result"
    }
   ],
   "source": [
    "df.loc[index]"
   ]
  },
  {
   "cell_type": "markdown",
   "id": "19950f05",
   "metadata": {},
   "source": [
    "Fill the null values in rating column"
   ]
  },
  {
   "cell_type": "code",
   "execution_count": 17,
   "id": "e237d53c",
   "metadata": {},
   "outputs": [
    {
     "data": {
      "text/html": [
       "<div>\n",
       "<style scoped>\n",
       "    .dataframe tbody tr th:only-of-type {\n",
       "        vertical-align: middle;\n",
       "    }\n",
       "\n",
       "    .dataframe tbody tr th {\n",
       "        vertical-align: top;\n",
       "    }\n",
       "\n",
       "    .dataframe thead th {\n",
       "        text-align: right;\n",
       "    }\n",
       "</style>\n",
       "<table border=\"1\" class=\"dataframe\">\n",
       "  <thead>\n",
       "    <tr style=\"text-align: right;\">\n",
       "      <th></th>\n",
       "      <th>show_id</th>\n",
       "      <th>type</th>\n",
       "      <th>title</th>\n",
       "      <th>director</th>\n",
       "      <th>cast</th>\n",
       "      <th>country</th>\n",
       "      <th>date_added</th>\n",
       "      <th>release_year</th>\n",
       "      <th>rating</th>\n",
       "      <th>duration</th>\n",
       "      <th>listed_in</th>\n",
       "      <th>description</th>\n",
       "    </tr>\n",
       "  </thead>\n",
       "  <tbody>\n",
       "    <tr>\n",
       "      <th>5989</th>\n",
       "      <td>s5990</td>\n",
       "      <td>Movie</td>\n",
       "      <td>13TH: A Conversation with Oprah Winfrey &amp; Ava ...</td>\n",
       "      <td>NaN</td>\n",
       "      <td>Oprah Winfrey, Ava DuVernay</td>\n",
       "      <td>NaN</td>\n",
       "      <td>January 26, 2017</td>\n",
       "      <td>2017</td>\n",
       "      <td>NaN</td>\n",
       "      <td>37 min</td>\n",
       "      <td>Movies</td>\n",
       "      <td>Oprah Winfrey sits down with director Ava DuVe...</td>\n",
       "    </tr>\n",
       "    <tr>\n",
       "      <th>6827</th>\n",
       "      <td>s6828</td>\n",
       "      <td>TV Show</td>\n",
       "      <td>Gargantia on the Verdurous Planet</td>\n",
       "      <td>NaN</td>\n",
       "      <td>Kaito Ishikawa, Hisako Kanemoto, Ai Kayano, Ka...</td>\n",
       "      <td>Japan</td>\n",
       "      <td>December 1, 2016</td>\n",
       "      <td>2013</td>\n",
       "      <td>NaN</td>\n",
       "      <td>1 Season</td>\n",
       "      <td>Anime Series, International TV Shows</td>\n",
       "      <td>After falling through a wormhole, a space-dwel...</td>\n",
       "    </tr>\n",
       "    <tr>\n",
       "      <th>7312</th>\n",
       "      <td>s7313</td>\n",
       "      <td>TV Show</td>\n",
       "      <td>Little Lunch</td>\n",
       "      <td>NaN</td>\n",
       "      <td>Flynn Curry, Olivia Deeble, Madison Lu, Oisín ...</td>\n",
       "      <td>Australia</td>\n",
       "      <td>February 1, 2018</td>\n",
       "      <td>2015</td>\n",
       "      <td>NaN</td>\n",
       "      <td>1 Season</td>\n",
       "      <td>Kids' TV, TV Comedies</td>\n",
       "      <td>Adopting a child's perspective, this show take...</td>\n",
       "    </tr>\n",
       "    <tr>\n",
       "      <th>7537</th>\n",
       "      <td>s7538</td>\n",
       "      <td>Movie</td>\n",
       "      <td>My Honor Was Loyalty</td>\n",
       "      <td>Alessandro Pepe</td>\n",
       "      <td>Leone Frisa, Paolo Vaccarino, Francesco Miglio...</td>\n",
       "      <td>Italy</td>\n",
       "      <td>March 1, 2017</td>\n",
       "      <td>2015</td>\n",
       "      <td>NaN</td>\n",
       "      <td>115 min</td>\n",
       "      <td>Dramas</td>\n",
       "      <td>Amid the chaos and horror of World War II, a c...</td>\n",
       "    </tr>\n",
       "  </tbody>\n",
       "</table>\n",
       "</div>"
      ],
      "text/plain": [
       "     show_id     type                                              title  \\\n",
       "5989   s5990    Movie  13TH: A Conversation with Oprah Winfrey & Ava ...   \n",
       "6827   s6828  TV Show                  Gargantia on the Verdurous Planet   \n",
       "7312   s7313  TV Show                                       Little Lunch   \n",
       "7537   s7538    Movie                               My Honor Was Loyalty   \n",
       "\n",
       "             director                                               cast  \\\n",
       "5989              NaN                        Oprah Winfrey, Ava DuVernay   \n",
       "6827              NaN  Kaito Ishikawa, Hisako Kanemoto, Ai Kayano, Ka...   \n",
       "7312              NaN  Flynn Curry, Olivia Deeble, Madison Lu, Oisín ...   \n",
       "7537  Alessandro Pepe  Leone Frisa, Paolo Vaccarino, Francesco Miglio...   \n",
       "\n",
       "        country        date_added release_year rating  duration  \\\n",
       "5989        NaN  January 26, 2017         2017    NaN    37 min   \n",
       "6827      Japan  December 1, 2016         2013    NaN  1 Season   \n",
       "7312  Australia  February 1, 2018         2015    NaN  1 Season   \n",
       "7537      Italy     March 1, 2017         2015    NaN   115 min   \n",
       "\n",
       "                                 listed_in  \\\n",
       "5989                                Movies   \n",
       "6827  Anime Series, International TV Shows   \n",
       "7312                 Kids' TV, TV Comedies   \n",
       "7537                                Dramas   \n",
       "\n",
       "                                            description  \n",
       "5989  Oprah Winfrey sits down with director Ava DuVe...  \n",
       "6827  After falling through a wormhole, a space-dwel...  \n",
       "7312  Adopting a child's perspective, this show take...  \n",
       "7537  Amid the chaos and horror of World War II, a c...  "
      ]
     },
     "execution_count": 17,
     "metadata": {},
     "output_type": "execute_result"
    }
   ],
   "source": [
    "df[df.rating.isna()]"
   ]
  },
  {
   "cell_type": "code",
   "execution_count": 18,
   "id": "f0ac868e",
   "metadata": {},
   "outputs": [
    {
     "data": {
      "text/plain": [
       "Int64Index([5989, 6827, 7312, 7537], dtype='int64')"
      ]
     },
     "execution_count": 18,
     "metadata": {},
     "output_type": "execute_result"
    }
   ],
   "source": [
    "indices = df[df.rating.isna()].index\n",
    "indices"
   ]
  },
  {
   "cell_type": "code",
   "execution_count": 19,
   "id": "270b8bc1",
   "metadata": {},
   "outputs": [],
   "source": [
    "df.loc[indices , 'rating'] = 'Not Available'"
   ]
  },
  {
   "cell_type": "code",
   "execution_count": 20,
   "id": "e77213ff",
   "metadata": {},
   "outputs": [
    {
     "data": {
      "text/html": [
       "<div>\n",
       "<style scoped>\n",
       "    .dataframe tbody tr th:only-of-type {\n",
       "        vertical-align: middle;\n",
       "    }\n",
       "\n",
       "    .dataframe tbody tr th {\n",
       "        vertical-align: top;\n",
       "    }\n",
       "\n",
       "    .dataframe thead th {\n",
       "        text-align: right;\n",
       "    }\n",
       "</style>\n",
       "<table border=\"1\" class=\"dataframe\">\n",
       "  <thead>\n",
       "    <tr style=\"text-align: right;\">\n",
       "      <th></th>\n",
       "      <th>show_id</th>\n",
       "      <th>type</th>\n",
       "      <th>title</th>\n",
       "      <th>director</th>\n",
       "      <th>cast</th>\n",
       "      <th>country</th>\n",
       "      <th>date_added</th>\n",
       "      <th>release_year</th>\n",
       "      <th>rating</th>\n",
       "      <th>duration</th>\n",
       "      <th>listed_in</th>\n",
       "      <th>description</th>\n",
       "    </tr>\n",
       "  </thead>\n",
       "  <tbody>\n",
       "    <tr>\n",
       "      <th>5989</th>\n",
       "      <td>s5990</td>\n",
       "      <td>Movie</td>\n",
       "      <td>13TH: A Conversation with Oprah Winfrey &amp; Ava ...</td>\n",
       "      <td>NaN</td>\n",
       "      <td>Oprah Winfrey, Ava DuVernay</td>\n",
       "      <td>NaN</td>\n",
       "      <td>January 26, 2017</td>\n",
       "      <td>2017</td>\n",
       "      <td>Not Available</td>\n",
       "      <td>37 min</td>\n",
       "      <td>Movies</td>\n",
       "      <td>Oprah Winfrey sits down with director Ava DuVe...</td>\n",
       "    </tr>\n",
       "    <tr>\n",
       "      <th>6827</th>\n",
       "      <td>s6828</td>\n",
       "      <td>TV Show</td>\n",
       "      <td>Gargantia on the Verdurous Planet</td>\n",
       "      <td>NaN</td>\n",
       "      <td>Kaito Ishikawa, Hisako Kanemoto, Ai Kayano, Ka...</td>\n",
       "      <td>Japan</td>\n",
       "      <td>December 1, 2016</td>\n",
       "      <td>2013</td>\n",
       "      <td>Not Available</td>\n",
       "      <td>1 Season</td>\n",
       "      <td>Anime Series, International TV Shows</td>\n",
       "      <td>After falling through a wormhole, a space-dwel...</td>\n",
       "    </tr>\n",
       "    <tr>\n",
       "      <th>7312</th>\n",
       "      <td>s7313</td>\n",
       "      <td>TV Show</td>\n",
       "      <td>Little Lunch</td>\n",
       "      <td>NaN</td>\n",
       "      <td>Flynn Curry, Olivia Deeble, Madison Lu, Oisín ...</td>\n",
       "      <td>Australia</td>\n",
       "      <td>February 1, 2018</td>\n",
       "      <td>2015</td>\n",
       "      <td>Not Available</td>\n",
       "      <td>1 Season</td>\n",
       "      <td>Kids' TV, TV Comedies</td>\n",
       "      <td>Adopting a child's perspective, this show take...</td>\n",
       "    </tr>\n",
       "    <tr>\n",
       "      <th>7537</th>\n",
       "      <td>s7538</td>\n",
       "      <td>Movie</td>\n",
       "      <td>My Honor Was Loyalty</td>\n",
       "      <td>Alessandro Pepe</td>\n",
       "      <td>Leone Frisa, Paolo Vaccarino, Francesco Miglio...</td>\n",
       "      <td>Italy</td>\n",
       "      <td>March 1, 2017</td>\n",
       "      <td>2015</td>\n",
       "      <td>Not Available</td>\n",
       "      <td>115 min</td>\n",
       "      <td>Dramas</td>\n",
       "      <td>Amid the chaos and horror of World War II, a c...</td>\n",
       "    </tr>\n",
       "  </tbody>\n",
       "</table>\n",
       "</div>"
      ],
      "text/plain": [
       "     show_id     type                                              title  \\\n",
       "5989   s5990    Movie  13TH: A Conversation with Oprah Winfrey & Ava ...   \n",
       "6827   s6828  TV Show                  Gargantia on the Verdurous Planet   \n",
       "7312   s7313  TV Show                                       Little Lunch   \n",
       "7537   s7538    Movie                               My Honor Was Loyalty   \n",
       "\n",
       "             director                                               cast  \\\n",
       "5989              NaN                        Oprah Winfrey, Ava DuVernay   \n",
       "6827              NaN  Kaito Ishikawa, Hisako Kanemoto, Ai Kayano, Ka...   \n",
       "7312              NaN  Flynn Curry, Olivia Deeble, Madison Lu, Oisín ...   \n",
       "7537  Alessandro Pepe  Leone Frisa, Paolo Vaccarino, Francesco Miglio...   \n",
       "\n",
       "        country        date_added release_year         rating  duration  \\\n",
       "5989        NaN  January 26, 2017         2017  Not Available    37 min   \n",
       "6827      Japan  December 1, 2016         2013  Not Available  1 Season   \n",
       "7312  Australia  February 1, 2018         2015  Not Available  1 Season   \n",
       "7537      Italy     March 1, 2017         2015  Not Available   115 min   \n",
       "\n",
       "                                 listed_in  \\\n",
       "5989                                Movies   \n",
       "6827  Anime Series, International TV Shows   \n",
       "7312                 Kids' TV, TV Comedies   \n",
       "7537                                Dramas   \n",
       "\n",
       "                                            description  \n",
       "5989  Oprah Winfrey sits down with director Ava DuVe...  \n",
       "6827  After falling through a wormhole, a space-dwel...  \n",
       "7312  Adopting a child's perspective, this show take...  \n",
       "7537  Amid the chaos and horror of World War II, a c...  "
      ]
     },
     "execution_count": 20,
     "metadata": {},
     "output_type": "execute_result"
    }
   ],
   "source": [
    "df.loc[indices]"
   ]
  },
  {
   "cell_type": "code",
   "execution_count": 21,
   "id": "679b14ed",
   "metadata": {},
   "outputs": [
    {
     "data": {
      "text/plain": [
       "array(['PG-13', 'TV-MA', 'PG', 'TV-14', 'TV-PG', 'TV-Y', 'TV-Y7', 'R',\n",
       "       'TV-G', 'G', 'NC-17', 'Not Available', 'NR', 'TV-Y7-FV', 'UR'],\n",
       "      dtype=object)"
      ]
     },
     "execution_count": 21,
     "metadata": {},
     "output_type": "execute_result"
    }
   ],
   "source": [
    "df.rating.unique()"
   ]
  },
  {
   "cell_type": "markdown",
   "id": "97b25031",
   "metadata": {},
   "source": [
    "In rating column , NR (Not rated) is same as UR (Unrated). lets change UR to NR."
   ]
  },
  {
   "cell_type": "code",
   "execution_count": 22,
   "id": "5873fd9d",
   "metadata": {},
   "outputs": [
    {
     "data": {
      "text/plain": [
       "TV-MA            3207\n",
       "TV-14            2160\n",
       "TV-PG             863\n",
       "R                 799\n",
       "PG-13             490\n",
       "TV-Y7             334\n",
       "TV-Y              307\n",
       "PG                287\n",
       "TV-G              220\n",
       "NR                 83\n",
       "G                  41\n",
       "Not Available       7\n",
       "TV-Y7-FV            6\n",
       "NC-17               3\n",
       "Name: rating, dtype: int64"
      ]
     },
     "execution_count": 22,
     "metadata": {},
     "output_type": "execute_result"
    }
   ],
   "source": [
    "df.loc[df['rating'] == 'UR' , 'rating'] = 'NR'\n",
    "df.rating.value_counts()"
   ]
  },
  {
   "cell_type": "markdown",
   "id": "d9a50652",
   "metadata": {},
   "source": [
    "d.\tChange the datatype of date_added column from object to datetime using pandas function to_datetime()"
   ]
  },
  {
   "cell_type": "markdown",
   "id": "2c415b32",
   "metadata": {},
   "source": [
    "dropped the null from date_added column"
   ]
  },
  {
   "cell_type": "code",
   "execution_count": 23,
   "id": "317b75ea",
   "metadata": {},
   "outputs": [],
   "source": [
    "df.drop(df.loc[df['date_added'].isna()].index , axis = 0 , inplace = True)"
   ]
  },
  {
   "cell_type": "code",
   "execution_count": 24,
   "id": "93fe6cd9",
   "metadata": {},
   "outputs": [
    {
     "data": {
      "text/plain": [
       "January 1, 2020      109\n",
       "November 1, 2019      89\n",
       "March 1, 2018         75\n",
       "December 31, 2019     74\n",
       "October 1, 2018       71\n",
       "                    ... \n",
       "December 4, 2016       1\n",
       "November 21, 2016      1\n",
       "November 19, 2016      1\n",
       "November 17, 2016      1\n",
       "January 11, 2020       1\n",
       "Name: date_added, Length: 1767, dtype: int64"
      ]
     },
     "execution_count": 24,
     "metadata": {},
     "output_type": "execute_result"
    }
   ],
   "source": [
    "df['date_added'].value_counts()"
   ]
  },
  {
   "cell_type": "markdown",
   "id": "2799793b",
   "metadata": {},
   "source": [
    "For 'date_added' column, all values confirm to date format, So we can convert its data type from object to datetim"
   ]
  },
  {
   "cell_type": "code",
   "execution_count": 25,
   "id": "abbe0365",
   "metadata": {},
   "outputs": [
    {
     "data": {
      "text/plain": [
       "0      2021-09-25\n",
       "1      2021-09-24\n",
       "2      2021-09-24\n",
       "3      2021-09-24\n",
       "4      2021-09-24\n",
       "          ...    \n",
       "8802   2019-11-20\n",
       "8803   2019-07-01\n",
       "8804   2019-11-01\n",
       "8805   2020-01-11\n",
       "8806   2019-03-02\n",
       "Name: date_added, Length: 8797, dtype: datetime64[ns]"
      ]
     },
     "execution_count": 25,
     "metadata": {},
     "output_type": "execute_result"
    }
   ],
   "source": [
    "df['date_added'] = pd.to_datetime(df['date_added'])\n",
    "df['date_added']"
   ]
  },
  {
   "cell_type": "markdown",
   "id": "f3382148",
   "metadata": {},
   "source": [
    "We can add the new column 'year_added' by extracting the year from 'date_added' column"
   ]
  },
  {
   "cell_type": "code",
   "execution_count": 26,
   "id": "caac5046",
   "metadata": {},
   "outputs": [],
   "source": [
    "df['year_added'] = df['date_added'].dt.year"
   ]
  },
  {
   "cell_type": "markdown",
   "id": "b90f6daa",
   "metadata": {},
   "source": [
    "Similar way, We can add the new column 'month_added' by extracting the month from 'date_added' column"
   ]
  },
  {
   "cell_type": "code",
   "execution_count": 27,
   "id": "b876b1d3",
   "metadata": {},
   "outputs": [],
   "source": [
    "df['month_added'] = df['date_added'].dt.month"
   ]
  },
  {
   "cell_type": "code",
   "execution_count": 28,
   "id": "69299a91",
   "metadata": {},
   "outputs": [
    {
     "name": "stdout",
     "output_type": "stream",
     "text": [
      "<class 'pandas.core.frame.DataFrame'>\n",
      "Int64Index: 8797 entries, 0 to 8806\n",
      "Data columns (total 3 columns):\n",
      " #   Column       Non-Null Count  Dtype         \n",
      "---  ------       --------------  -----         \n",
      " 0   date_added   8797 non-null   datetime64[ns]\n",
      " 1   year_added   8797 non-null   int64         \n",
      " 2   month_added  8797 non-null   int64         \n",
      "dtypes: datetime64[ns](1), int64(2)\n",
      "memory usage: 274.9 KB\n"
     ]
    }
   ],
   "source": [
    "df[['date_added' , 'year_added' , 'month_added']].info()"
   ]
  },
  {
   "cell_type": "markdown",
   "id": "55ce2508",
   "metadata": {},
   "source": [
    "total null values in each column"
   ]
  },
  {
   "cell_type": "code",
   "execution_count": 29,
   "id": "1be46e15",
   "metadata": {},
   "outputs": [
    {
     "data": {
      "text/plain": [
       "show_id            0\n",
       "type               0\n",
       "title              0\n",
       "director        2624\n",
       "cast             825\n",
       "country          830\n",
       "date_added         0\n",
       "release_year       0\n",
       "rating             0\n",
       "duration           0\n",
       "listed_in          0\n",
       "description        0\n",
       "year_added         0\n",
       "month_added        0\n",
       "dtype: int64"
      ]
     },
     "execution_count": 29,
     "metadata": {},
     "output_type": "execute_result"
    }
   ],
   "source": [
    "df.isna().sum()"
   ]
  },
  {
   "cell_type": "markdown",
   "id": "a383231f",
   "metadata": {},
   "source": [
    "% Null values in each column"
   ]
  },
  {
   "cell_type": "code",
   "execution_count": 30,
   "id": "c3ff4919",
   "metadata": {},
   "outputs": [
    {
     "data": {
      "text/plain": [
       "show_id          0.0\n",
       "type             0.0\n",
       "title            0.0\n",
       "director        30.0\n",
       "cast             9.0\n",
       "country          9.0\n",
       "date_added       0.0\n",
       "release_year     0.0\n",
       "rating           0.0\n",
       "duration         0.0\n",
       "listed_in        0.0\n",
       "description      0.0\n",
       "year_added       0.0\n",
       "month_added      0.0\n",
       "dtype: float64"
      ]
     },
     "execution_count": 30,
     "metadata": {},
     "output_type": "execute_result"
    }
   ],
   "source": [
    "round((df.isna().sum()/ df.shape[0])*100)"
   ]
  },
  {
   "cell_type": "markdown",
   "id": "29c8c706",
   "metadata": {},
   "source": [
    "We can see that, after cleaning some data we still have null values in 3 columns. \n"
   ]
  },
  {
   "cell_type": "markdown",
   "id": "92a36a42",
   "metadata": {},
   "source": [
    "e.\tCheck the types of content present in dataset (Hint unique values of type col)"
   ]
  },
  {
   "cell_type": "code",
   "execution_count": 31,
   "id": "3918a86d",
   "metadata": {},
   "outputs": [
    {
     "data": {
      "text/plain": [
       "array(['Movie', 'TV Show'], dtype=object)"
      ]
     },
     "execution_count": 31,
     "metadata": {},
     "output_type": "execute_result"
    }
   ],
   "source": [
    "df['type'].unique()"
   ]
  },
  {
   "cell_type": "code",
   "execution_count": 32,
   "id": "487634f3",
   "metadata": {},
   "outputs": [],
   "source": [
    "movies  = df.loc[df['type'] == 'Movie']\n",
    "tv_shows = df.loc[df['type'] == 'TV Show'] "
   ]
  },
  {
   "cell_type": "code",
   "execution_count": 33,
   "id": "d7912952",
   "metadata": {},
   "outputs": [
    {
     "data": {
      "text/plain": [
       "90 min     152\n",
       "94 min     146\n",
       "97 min     146\n",
       "93 min     146\n",
       "91 min     144\n",
       "          ... \n",
       "208 min      1\n",
       "5 min        1\n",
       "16 min       1\n",
       "186 min      1\n",
       "191 min      1\n",
       "Name: duration, Length: 205, dtype: int64"
      ]
     },
     "execution_count": 33,
     "metadata": {},
     "output_type": "execute_result"
    }
   ],
   "source": [
    "movies.duration.value_counts()"
   ]
  },
  {
   "cell_type": "code",
   "execution_count": 34,
   "id": "193dbd25",
   "metadata": {},
   "outputs": [
    {
     "data": {
      "text/plain": [
       "1 Season      1793\n",
       "2 Seasons      421\n",
       "3 Seasons      198\n",
       "4 Seasons       94\n",
       "5 Seasons       64\n",
       "6 Seasons       33\n",
       "7 Seasons       23\n",
       "8 Seasons       17\n",
       "9 Seasons        9\n",
       "10 Seasons       6\n",
       "13 Seasons       2\n",
       "15 Seasons       2\n",
       "12 Seasons       2\n",
       "17 Seasons       1\n",
       "11 Seasons       1\n",
       "Name: duration, dtype: int64"
      ]
     },
     "execution_count": 34,
     "metadata": {},
     "output_type": "execute_result"
    }
   ],
   "source": [
    "tv_shows.duration.value_counts()"
   ]
  },
  {
   "cell_type": "markdown",
   "id": "7929e5c4",
   "metadata": {},
   "source": [
    "# Challenging Questions:"
   ]
  },
  {
   "cell_type": "markdown",
   "id": "81a1dc14",
   "metadata": {},
   "source": [
    "•\tThe oldest and the most recent movie/TV show released on Netflix in which year?"
   ]
  },
  {
   "cell_type": "code",
   "execution_count": 35,
   "id": "e83c8f3d",
   "metadata": {},
   "outputs": [
    {
     "data": {
      "text/plain": [
       "(1925, 2021)"
      ]
     },
     "execution_count": 35,
     "metadata": {},
     "output_type": "execute_result"
    }
   ],
   "source": [
    "df.release_year.min() , df.release_year.max()"
   ]
  },
  {
   "cell_type": "code",
   "execution_count": 36,
   "id": "71c167c7",
   "metadata": {},
   "outputs": [
    {
     "data": {
      "text/html": [
       "<div>\n",
       "<style scoped>\n",
       "    .dataframe tbody tr th:only-of-type {\n",
       "        vertical-align: middle;\n",
       "    }\n",
       "\n",
       "    .dataframe tbody tr th {\n",
       "        vertical-align: top;\n",
       "    }\n",
       "\n",
       "    .dataframe thead th {\n",
       "        text-align: right;\n",
       "    }\n",
       "</style>\n",
       "<table border=\"1\" class=\"dataframe\">\n",
       "  <thead>\n",
       "    <tr style=\"text-align: right;\">\n",
       "      <th></th>\n",
       "      <th>show_id</th>\n",
       "      <th>type</th>\n",
       "      <th>title</th>\n",
       "      <th>director</th>\n",
       "      <th>cast</th>\n",
       "      <th>country</th>\n",
       "      <th>date_added</th>\n",
       "      <th>release_year</th>\n",
       "      <th>rating</th>\n",
       "      <th>duration</th>\n",
       "      <th>listed_in</th>\n",
       "      <th>description</th>\n",
       "      <th>year_added</th>\n",
       "      <th>month_added</th>\n",
       "    </tr>\n",
       "  </thead>\n",
       "  <tbody>\n",
       "    <tr>\n",
       "      <th>4250</th>\n",
       "      <td>s4251</td>\n",
       "      <td>TV Show</td>\n",
       "      <td>Pioneers: First Women Filmmakers*</td>\n",
       "      <td>NaN</td>\n",
       "      <td>NaN</td>\n",
       "      <td>NaN</td>\n",
       "      <td>2018-12-30</td>\n",
       "      <td>1925</td>\n",
       "      <td>TV-14</td>\n",
       "      <td>1 Season</td>\n",
       "      <td>TV Shows</td>\n",
       "      <td>This collection restores films from women who ...</td>\n",
       "      <td>2018</td>\n",
       "      <td>12</td>\n",
       "    </tr>\n",
       "    <tr>\n",
       "      <th>966</th>\n",
       "      <td>s967</td>\n",
       "      <td>Movie</td>\n",
       "      <td>Get the Grift</td>\n",
       "      <td>Pedro Antonio</td>\n",
       "      <td>Marcus Majella, Samantha Schmütz, Caito Mainie...</td>\n",
       "      <td>Brazil</td>\n",
       "      <td>2021-04-28</td>\n",
       "      <td>2021</td>\n",
       "      <td>TV-MA</td>\n",
       "      <td>95 min</td>\n",
       "      <td>Comedies, International Movies</td>\n",
       "      <td>After a botched scam, Clóvis bumps into Lohane...</td>\n",
       "      <td>2021</td>\n",
       "      <td>4</td>\n",
       "    </tr>\n",
       "    <tr>\n",
       "      <th>967</th>\n",
       "      <td>s968</td>\n",
       "      <td>TV Show</td>\n",
       "      <td>Headspace Guide to Sleep</td>\n",
       "      <td>NaN</td>\n",
       "      <td>Evelyn Lewis Prieto</td>\n",
       "      <td>NaN</td>\n",
       "      <td>2021-04-28</td>\n",
       "      <td>2021</td>\n",
       "      <td>TV-G</td>\n",
       "      <td>1 Season</td>\n",
       "      <td>Docuseries, Science &amp; Nature TV</td>\n",
       "      <td>Learn how to sleep better with Headspace. Each...</td>\n",
       "      <td>2021</td>\n",
       "      <td>4</td>\n",
       "    </tr>\n",
       "    <tr>\n",
       "      <th>968</th>\n",
       "      <td>s969</td>\n",
       "      <td>TV Show</td>\n",
       "      <td>Sexify</td>\n",
       "      <td>NaN</td>\n",
       "      <td>Aleksandra Skraba, Maria Sobocińska, Sandra Dr...</td>\n",
       "      <td>Poland</td>\n",
       "      <td>2021-04-28</td>\n",
       "      <td>2021</td>\n",
       "      <td>TV-MA</td>\n",
       "      <td>1 Season</td>\n",
       "      <td>International TV Shows, TV Comedies, TV Dramas</td>\n",
       "      <td>To build an innovative sex app and win a tech ...</td>\n",
       "      <td>2021</td>\n",
       "      <td>4</td>\n",
       "    </tr>\n",
       "    <tr>\n",
       "      <th>972</th>\n",
       "      <td>s973</td>\n",
       "      <td>TV Show</td>\n",
       "      <td>Fatma</td>\n",
       "      <td>NaN</td>\n",
       "      <td>Burcu Biricik, Uğur Yücel, Mehmet Yılmaz Ak, H...</td>\n",
       "      <td>Turkey</td>\n",
       "      <td>2021-04-27</td>\n",
       "      <td>2021</td>\n",
       "      <td>TV-MA</td>\n",
       "      <td>1 Season</td>\n",
       "      <td>International TV Shows, TV Dramas, TV Thrillers</td>\n",
       "      <td>Reeling from tragedy, a nondescript house clea...</td>\n",
       "      <td>2021</td>\n",
       "      <td>4</td>\n",
       "    </tr>\n",
       "    <tr>\n",
       "      <th>...</th>\n",
       "      <td>...</td>\n",
       "      <td>...</td>\n",
       "      <td>...</td>\n",
       "      <td>...</td>\n",
       "      <td>...</td>\n",
       "      <td>...</td>\n",
       "      <td>...</td>\n",
       "      <td>...</td>\n",
       "      <td>...</td>\n",
       "      <td>...</td>\n",
       "      <td>...</td>\n",
       "      <td>...</td>\n",
       "      <td>...</td>\n",
       "      <td>...</td>\n",
       "    </tr>\n",
       "    <tr>\n",
       "      <th>466</th>\n",
       "      <td>s467</td>\n",
       "      <td>TV Show</td>\n",
       "      <td>My Unorthodox Life</td>\n",
       "      <td>NaN</td>\n",
       "      <td>NaN</td>\n",
       "      <td>NaN</td>\n",
       "      <td>2021-07-14</td>\n",
       "      <td>2021</td>\n",
       "      <td>TV-MA</td>\n",
       "      <td>1 Season</td>\n",
       "      <td>Reality TV</td>\n",
       "      <td>Follow Julia Haart, Elite World Group CEO and ...</td>\n",
       "      <td>2021</td>\n",
       "      <td>7</td>\n",
       "    </tr>\n",
       "    <tr>\n",
       "      <th>467</th>\n",
       "      <td>s468</td>\n",
       "      <td>Movie</td>\n",
       "      <td>Private Network: Who Killed Manuel Buendía?</td>\n",
       "      <td>Manuel Alcalá</td>\n",
       "      <td>Daniel Giménez Cacho</td>\n",
       "      <td>NaN</td>\n",
       "      <td>2021-07-14</td>\n",
       "      <td>2021</td>\n",
       "      <td>TV-MA</td>\n",
       "      <td>100 min</td>\n",
       "      <td>Documentaries, International Movies</td>\n",
       "      <td>A deep dive into the work of renowned Mexican ...</td>\n",
       "      <td>2021</td>\n",
       "      <td>7</td>\n",
       "    </tr>\n",
       "    <tr>\n",
       "      <th>468</th>\n",
       "      <td>s469</td>\n",
       "      <td>Movie</td>\n",
       "      <td>The Guide to the Perfect Family</td>\n",
       "      <td>Ricardo Trogi</td>\n",
       "      <td>Louis Morissette, Émilie Bierre, Catherine Cha...</td>\n",
       "      <td>NaN</td>\n",
       "      <td>2021-07-14</td>\n",
       "      <td>2021</td>\n",
       "      <td>TV-MA</td>\n",
       "      <td>102 min</td>\n",
       "      <td>Comedies, Dramas, International Movies</td>\n",
       "      <td>A couple in Québec deals with the pitfalls, pr...</td>\n",
       "      <td>2021</td>\n",
       "      <td>7</td>\n",
       "    </tr>\n",
       "    <tr>\n",
       "      <th>471</th>\n",
       "      <td>s472</td>\n",
       "      <td>Movie</td>\n",
       "      <td>Day of Destiny</td>\n",
       "      <td>Akay Mason, Abosi Ogba</td>\n",
       "      <td>Olumide Oworu, Denola Grey, Gbemi Akinlade, Ji...</td>\n",
       "      <td>NaN</td>\n",
       "      <td>2021-07-13</td>\n",
       "      <td>2021</td>\n",
       "      <td>TV-PG</td>\n",
       "      <td>110 min</td>\n",
       "      <td>Children &amp; Family Movies, Dramas, Internationa...</td>\n",
       "      <td>With their family facing financial woes, two t...</td>\n",
       "      <td>2021</td>\n",
       "      <td>7</td>\n",
       "    </tr>\n",
       "    <tr>\n",
       "      <th>8437</th>\n",
       "      <td>s8438</td>\n",
       "      <td>TV Show</td>\n",
       "      <td>The Netflix Afterparty</td>\n",
       "      <td>NaN</td>\n",
       "      <td>David Spade, London Hughes, Fortune Feimster</td>\n",
       "      <td>United States</td>\n",
       "      <td>2021-01-02</td>\n",
       "      <td>2021</td>\n",
       "      <td>TV-MA</td>\n",
       "      <td>1 Season</td>\n",
       "      <td>Stand-Up Comedy &amp; Talk Shows, TV Comedies</td>\n",
       "      <td>Hosts David Spade, Fortune Feimster and London...</td>\n",
       "      <td>2021</td>\n",
       "      <td>1</td>\n",
       "    </tr>\n",
       "  </tbody>\n",
       "</table>\n",
       "<p>593 rows × 14 columns</p>\n",
       "</div>"
      ],
      "text/plain": [
       "     show_id     type                                        title  \\\n",
       "4250   s4251  TV Show            Pioneers: First Women Filmmakers*   \n",
       "966     s967    Movie                                Get the Grift   \n",
       "967     s968  TV Show                     Headspace Guide to Sleep   \n",
       "968     s969  TV Show                                       Sexify   \n",
       "972     s973  TV Show                                        Fatma   \n",
       "...      ...      ...                                          ...   \n",
       "466     s467  TV Show                           My Unorthodox Life   \n",
       "467     s468    Movie  Private Network: Who Killed Manuel Buendía?   \n",
       "468     s469    Movie              The Guide to the Perfect Family   \n",
       "471     s472    Movie                               Day of Destiny   \n",
       "8437   s8438  TV Show                       The Netflix Afterparty   \n",
       "\n",
       "                    director  \\\n",
       "4250                     NaN   \n",
       "966            Pedro Antonio   \n",
       "967                      NaN   \n",
       "968                      NaN   \n",
       "972                      NaN   \n",
       "...                      ...   \n",
       "466                      NaN   \n",
       "467            Manuel Alcalá   \n",
       "468            Ricardo Trogi   \n",
       "471   Akay Mason, Abosi Ogba   \n",
       "8437                     NaN   \n",
       "\n",
       "                                                   cast        country  \\\n",
       "4250                                                NaN            NaN   \n",
       "966   Marcus Majella, Samantha Schmütz, Caito Mainie...         Brazil   \n",
       "967                                 Evelyn Lewis Prieto            NaN   \n",
       "968   Aleksandra Skraba, Maria Sobocińska, Sandra Dr...         Poland   \n",
       "972   Burcu Biricik, Uğur Yücel, Mehmet Yılmaz Ak, H...         Turkey   \n",
       "...                                                 ...            ...   \n",
       "466                                                 NaN            NaN   \n",
       "467                                Daniel Giménez Cacho            NaN   \n",
       "468   Louis Morissette, Émilie Bierre, Catherine Cha...            NaN   \n",
       "471   Olumide Oworu, Denola Grey, Gbemi Akinlade, Ji...            NaN   \n",
       "8437       David Spade, London Hughes, Fortune Feimster  United States   \n",
       "\n",
       "     date_added release_year rating  duration  \\\n",
       "4250 2018-12-30         1925  TV-14  1 Season   \n",
       "966  2021-04-28         2021  TV-MA    95 min   \n",
       "967  2021-04-28         2021   TV-G  1 Season   \n",
       "968  2021-04-28         2021  TV-MA  1 Season   \n",
       "972  2021-04-27         2021  TV-MA  1 Season   \n",
       "...         ...          ...    ...       ...   \n",
       "466  2021-07-14         2021  TV-MA  1 Season   \n",
       "467  2021-07-14         2021  TV-MA   100 min   \n",
       "468  2021-07-14         2021  TV-MA   102 min   \n",
       "471  2021-07-13         2021  TV-PG   110 min   \n",
       "8437 2021-01-02         2021  TV-MA  1 Season   \n",
       "\n",
       "                                              listed_in  \\\n",
       "4250                                           TV Shows   \n",
       "966                      Comedies, International Movies   \n",
       "967                     Docuseries, Science & Nature TV   \n",
       "968      International TV Shows, TV Comedies, TV Dramas   \n",
       "972     International TV Shows, TV Dramas, TV Thrillers   \n",
       "...                                                 ...   \n",
       "466                                          Reality TV   \n",
       "467                 Documentaries, International Movies   \n",
       "468              Comedies, Dramas, International Movies   \n",
       "471   Children & Family Movies, Dramas, Internationa...   \n",
       "8437          Stand-Up Comedy & Talk Shows, TV Comedies   \n",
       "\n",
       "                                            description  year_added  \\\n",
       "4250  This collection restores films from women who ...        2018   \n",
       "966   After a botched scam, Clóvis bumps into Lohane...        2021   \n",
       "967   Learn how to sleep better with Headspace. Each...        2021   \n",
       "968   To build an innovative sex app and win a tech ...        2021   \n",
       "972   Reeling from tragedy, a nondescript house clea...        2021   \n",
       "...                                                 ...         ...   \n",
       "466   Follow Julia Haart, Elite World Group CEO and ...        2021   \n",
       "467   A deep dive into the work of renowned Mexican ...        2021   \n",
       "468   A couple in Québec deals with the pitfalls, pr...        2021   \n",
       "471   With their family facing financial woes, two t...        2021   \n",
       "8437  Hosts David Spade, Fortune Feimster and London...        2021   \n",
       "\n",
       "      month_added  \n",
       "4250           12  \n",
       "966             4  \n",
       "967             4  \n",
       "968             4  \n",
       "972             4  \n",
       "...           ...  \n",
       "466             7  \n",
       "467             7  \n",
       "468             7  \n",
       "471             7  \n",
       "8437            1  \n",
       "\n",
       "[593 rows x 14 columns]"
      ]
     },
     "execution_count": 36,
     "metadata": {},
     "output_type": "execute_result"
    }
   ],
   "source": [
    "df.loc[(df.release_year == df.release_year.min()) | (df.release_year == df.release_year.max())].sort_values('release_year')"
   ]
  },
  {
   "cell_type": "markdown",
   "id": "78240086",
   "metadata": {},
   "source": [
    "Which are the different ratings available on Netflix in each type of content (Movies/TV Show)? Check the number of contents released in each type."
   ]
  },
  {
   "cell_type": "code",
   "execution_count": 37,
   "id": "9d0630f0",
   "metadata": {},
   "outputs": [
    {
     "data": {
      "text/plain": [
       "type     rating       \n",
       "Movie    G                  41\n",
       "         NC-17               3\n",
       "         NR                 78\n",
       "         Not Available       5\n",
       "         PG                287\n",
       "         PG-13             490\n",
       "         R                 797\n",
       "         TV-14            1427\n",
       "         TV-G              126\n",
       "         TV-MA            2062\n",
       "         TV-PG             540\n",
       "         TV-Y              131\n",
       "         TV-Y7             139\n",
       "         TV-Y7-FV            5\n",
       "TV Show  NR                  4\n",
       "         Not Available       2\n",
       "         R                   2\n",
       "         TV-14             730\n",
       "         TV-G               94\n",
       "         TV-MA            1143\n",
       "         TV-PG             321\n",
       "         TV-Y              175\n",
       "         TV-Y7             194\n",
       "         TV-Y7-FV            1\n",
       "Name: show_id, dtype: int64"
      ]
     },
     "execution_count": 37,
     "metadata": {},
     "output_type": "execute_result"
    }
   ],
   "source": [
    "df.groupby(['type' , 'rating'])['show_id'].count()"
   ]
  },
  {
   "cell_type": "code",
   "execution_count": 38,
   "id": "289e2021",
   "metadata": {},
   "outputs": [
    {
     "data": {
      "text/plain": [
       "United States                             2812\n",
       "India                                      972\n",
       "United Kingdom                             418\n",
       "Japan                                      244\n",
       "South Korea                                199\n",
       "                                          ... \n",
       "Romania, Bulgaria, Hungary                   1\n",
       "Uruguay, Guatemala                           1\n",
       "France, Senegal, Belgium                     1\n",
       "Mexico, United States, Spain, Colombia       1\n",
       "United Arab Emirates, Jordan                 1\n",
       "Name: country, Length: 748, dtype: int64"
      ]
     },
     "execution_count": 38,
     "metadata": {},
     "output_type": "execute_result"
    }
   ],
   "source": [
    "df['country'].value_counts()"
   ]
  },
  {
   "cell_type": "code",
   "execution_count": 40,
   "id": "e38f0640",
   "metadata": {
    "scrolled": false
   },
   "outputs": [
    {
     "name": "stderr",
     "output_type": "stream",
     "text": [
      "C:\\Users\\mahwi\\AppData\\Local\\Temp\\ipykernel_15636\\679330132.py:2: SettingWithCopyWarning: \n",
      "A value is trying to be set on a copy of a slice from a DataFrame\n",
      "\n",
      "See the caveats in the documentation: https://pandas.pydata.org/pandas-docs/stable/user_guide/indexing.html#returning-a-view-versus-a-copy\n",
      "  country_tb.dropna(inplace = True)\n",
      "C:\\Users\\mahwi\\AppData\\Local\\Temp\\ipykernel_15636\\679330132.py:3: SettingWithCopyWarning: \n",
      "A value is trying to be set on a copy of a slice from a DataFrame.\n",
      "Try using .loc[row_indexer,col_indexer] = value instead\n",
      "\n",
      "See the caveats in the documentation: https://pandas.pydata.org/pandas-docs/stable/user_guide/indexing.html#returning-a-view-versus-a-copy\n",
      "  country_tb['country'] = country_tb['country'].apply(lambda x : x.split(','))\n"
     ]
    },
    {
     "data": {
      "text/html": [
       "<div>\n",
       "<style scoped>\n",
       "    .dataframe tbody tr th:only-of-type {\n",
       "        vertical-align: middle;\n",
       "    }\n",
       "\n",
       "    .dataframe tbody tr th {\n",
       "        vertical-align: top;\n",
       "    }\n",
       "\n",
       "    .dataframe thead th {\n",
       "        text-align: right;\n",
       "    }\n",
       "</style>\n",
       "<table border=\"1\" class=\"dataframe\">\n",
       "  <thead>\n",
       "    <tr style=\"text-align: right;\">\n",
       "      <th></th>\n",
       "      <th>show_id</th>\n",
       "      <th>type</th>\n",
       "      <th>country</th>\n",
       "    </tr>\n",
       "  </thead>\n",
       "  <tbody>\n",
       "    <tr>\n",
       "      <th>0</th>\n",
       "      <td>s1</td>\n",
       "      <td>Movie</td>\n",
       "      <td>United States</td>\n",
       "    </tr>\n",
       "    <tr>\n",
       "      <th>1</th>\n",
       "      <td>s2</td>\n",
       "      <td>TV Show</td>\n",
       "      <td>South Africa</td>\n",
       "    </tr>\n",
       "    <tr>\n",
       "      <th>4</th>\n",
       "      <td>s5</td>\n",
       "      <td>TV Show</td>\n",
       "      <td>India</td>\n",
       "    </tr>\n",
       "    <tr>\n",
       "      <th>7</th>\n",
       "      <td>s8</td>\n",
       "      <td>Movie</td>\n",
       "      <td>United States</td>\n",
       "    </tr>\n",
       "    <tr>\n",
       "      <th>7</th>\n",
       "      <td>s8</td>\n",
       "      <td>Movie</td>\n",
       "      <td>Ghana</td>\n",
       "    </tr>\n",
       "    <tr>\n",
       "      <th>...</th>\n",
       "      <td>...</td>\n",
       "      <td>...</td>\n",
       "      <td>...</td>\n",
       "    </tr>\n",
       "    <tr>\n",
       "      <th>8801</th>\n",
       "      <td>s8802</td>\n",
       "      <td>Movie</td>\n",
       "      <td>Jordan</td>\n",
       "    </tr>\n",
       "    <tr>\n",
       "      <th>8802</th>\n",
       "      <td>s8803</td>\n",
       "      <td>Movie</td>\n",
       "      <td>United States</td>\n",
       "    </tr>\n",
       "    <tr>\n",
       "      <th>8804</th>\n",
       "      <td>s8805</td>\n",
       "      <td>Movie</td>\n",
       "      <td>United States</td>\n",
       "    </tr>\n",
       "    <tr>\n",
       "      <th>8805</th>\n",
       "      <td>s8806</td>\n",
       "      <td>Movie</td>\n",
       "      <td>United States</td>\n",
       "    </tr>\n",
       "    <tr>\n",
       "      <th>8806</th>\n",
       "      <td>s8807</td>\n",
       "      <td>Movie</td>\n",
       "      <td>India</td>\n",
       "    </tr>\n",
       "  </tbody>\n",
       "</table>\n",
       "<p>10010 rows × 3 columns</p>\n",
       "</div>"
      ],
      "text/plain": [
       "     show_id     type        country\n",
       "0         s1    Movie  United States\n",
       "1         s2  TV Show   South Africa\n",
       "4         s5  TV Show          India\n",
       "7         s8    Movie  United States\n",
       "7         s8    Movie          Ghana\n",
       "...      ...      ...            ...\n",
       "8801   s8802    Movie         Jordan\n",
       "8802   s8803    Movie  United States\n",
       "8804   s8805    Movie  United States\n",
       "8805   s8806    Movie  United States\n",
       "8806   s8807    Movie          India\n",
       "\n",
       "[10010 rows x 3 columns]"
      ]
     },
     "execution_count": 40,
     "metadata": {},
     "output_type": "execute_result"
    }
   ],
   "source": [
    "country_tb = df[['show_id' , 'type' , 'country']]\n",
    "country_tb.dropna(inplace = True)\n",
    "country_tb['country'] = country_tb['country'].apply(lambda x : x.split(','))\n",
    "country_tb = country_tb.explode('country')\n",
    "country_tb"
   ]
  },
  {
   "cell_type": "code",
   "execution_count": 41,
   "id": "14cb2415",
   "metadata": {},
   "outputs": [],
   "source": [
    "country_tb['country'] = country_tb['country'].str.strip()"
   ]
  },
  {
   "cell_type": "code",
   "execution_count": 42,
   "id": "06410044",
   "metadata": {},
   "outputs": [
    {
     "data": {
      "text/html": [
       "<div>\n",
       "<style scoped>\n",
       "    .dataframe tbody tr th:only-of-type {\n",
       "        vertical-align: middle;\n",
       "    }\n",
       "\n",
       "    .dataframe tbody tr th {\n",
       "        vertical-align: top;\n",
       "    }\n",
       "\n",
       "    .dataframe thead th {\n",
       "        text-align: right;\n",
       "    }\n",
       "</style>\n",
       "<table border=\"1\" class=\"dataframe\">\n",
       "  <thead>\n",
       "    <tr style=\"text-align: right;\">\n",
       "      <th></th>\n",
       "      <th>show_id</th>\n",
       "      <th>type</th>\n",
       "      <th>country</th>\n",
       "    </tr>\n",
       "  </thead>\n",
       "  <tbody>\n",
       "    <tr>\n",
       "      <th>193</th>\n",
       "      <td>s194</td>\n",
       "      <td>TV Show</td>\n",
       "      <td></td>\n",
       "    </tr>\n",
       "    <tr>\n",
       "      <th>365</th>\n",
       "      <td>s366</td>\n",
       "      <td>Movie</td>\n",
       "      <td></td>\n",
       "    </tr>\n",
       "    <tr>\n",
       "      <th>1192</th>\n",
       "      <td>s1193</td>\n",
       "      <td>Movie</td>\n",
       "      <td></td>\n",
       "    </tr>\n",
       "    <tr>\n",
       "      <th>2224</th>\n",
       "      <td>s2225</td>\n",
       "      <td>Movie</td>\n",
       "      <td></td>\n",
       "    </tr>\n",
       "    <tr>\n",
       "      <th>4653</th>\n",
       "      <td>s4654</td>\n",
       "      <td>Movie</td>\n",
       "      <td></td>\n",
       "    </tr>\n",
       "    <tr>\n",
       "      <th>5925</th>\n",
       "      <td>s5926</td>\n",
       "      <td>Movie</td>\n",
       "      <td></td>\n",
       "    </tr>\n",
       "    <tr>\n",
       "      <th>7007</th>\n",
       "      <td>s7008</td>\n",
       "      <td>Movie</td>\n",
       "      <td></td>\n",
       "    </tr>\n",
       "  </tbody>\n",
       "</table>\n",
       "</div>"
      ],
      "text/plain": [
       "     show_id     type country\n",
       "193     s194  TV Show        \n",
       "365     s366    Movie        \n",
       "1192   s1193    Movie        \n",
       "2224   s2225    Movie        \n",
       "4653   s4654    Movie        \n",
       "5925   s5926    Movie        \n",
       "7007   s7008    Movie        "
      ]
     },
     "execution_count": 42,
     "metadata": {},
     "output_type": "execute_result"
    }
   ],
   "source": [
    "country_tb.loc[country_tb['country'] == '']"
   ]
  },
  {
   "cell_type": "code",
   "execution_count": 43,
   "id": "77e810f6",
   "metadata": {},
   "outputs": [
    {
     "data": {
      "text/plain": [
       "123"
      ]
     },
     "execution_count": 43,
     "metadata": {},
     "output_type": "execute_result"
    }
   ],
   "source": [
    "country_tb['country'].nunique()"
   ]
  },
  {
   "cell_type": "markdown",
   "id": "6d4dc417",
   "metadata": {},
   "source": [
    "so total movies from 123 countries"
   ]
  },
  {
   "cell_type": "markdown",
   "id": "0d50c8c9",
   "metadata": {},
   "source": [
    "•\tTotal movies and tv shows directed by each director."
   ]
  },
  {
   "cell_type": "code",
   "execution_count": 54,
   "id": "b904e79f",
   "metadata": {},
   "outputs": [
    {
     "data": {
      "text/plain": [
       "Rajiv Chilaka                     19\n",
       "Raúl Campos, Jan Suter            18\n",
       "Marcus Raboy                      16\n",
       "Suhas Kadav                       16\n",
       "Jay Karas                         14\n",
       "                                  ..\n",
       "Raymie Muzquiz, Stu Livingston     1\n",
       "Joe Menendez                       1\n",
       "Eric Bross                         1\n",
       "Will Eisenberg                     1\n",
       "Mozez Singh                        1\n",
       "Name: director, Length: 4528, dtype: int64"
      ]
     },
     "execution_count": 54,
     "metadata": {},
     "output_type": "execute_result"
    }
   ],
   "source": [
    "df['director'].value_counts()"
   ]
  },
  {
   "cell_type": "markdown",
   "id": "a76fe70e",
   "metadata": {},
   "source": [
    "# Visual Analysis"
   ]
  },
  {
   "cell_type": "markdown",
   "id": "a8171dee",
   "metadata": {},
   "source": [
    "•\tDistribution of content across the different types (Movies/TV Shows) using matplotlib pie chart"
   ]
  },
  {
   "cell_type": "code",
   "execution_count": 58,
   "id": "9b295c00",
   "metadata": {},
   "outputs": [
    {
     "data": {
      "image/png": "[encoded data removed]",
      "text/plain": [
       "<Figure size 640x480 with 1 Axes>"
      ]
     },
     "metadata": {},
     "output_type": "display_data"
    }
   ],
   "source": [
    "types = df.type.value_counts()\n",
    "plt.pie(types,  labels=types.index, autopct='%1.1f%%' , colors = ['pink' , 'green'])\n",
    "plt.title('Total_Movies and TV Shows')\n",
    "plt.show()"
   ]
  },
  {
   "cell_type": "markdown",
   "id": "3586c804",
   "metadata": {},
   "source": [
    "•\tGeneral visual analysis of null values in each column "
   ]
  },
  {
   "cell_type": "code",
   "execution_count": 60,
   "id": "d09ae181",
   "metadata": {},
   "outputs": [
    {
     "data": {
      "image/png": "[encoded data removed]",
      "text/plain": [
       "<Figure size 1200x600 with 1 Axes>"
      ]
     },
     "metadata": {},
     "output_type": "display_data"
    }
   ],
   "source": [
    "null_counts = df.isnull().sum()\n",
    "\n",
    "plt.figure(figsize=(12, 6))\n",
    "null_counts.plot(kind='bar', color='skyblue')\n",
    "plt.title('Count of Null Values in Each Column')\n",
    "plt.xlabel('Columns')\n",
    "plt.ylabel('Count of Null Values')\n",
    "plt.xticks(rotation=45)\n",
    "plt.show()\n"
   ]
  },
  {
   "cell_type": "markdown",
   "id": "098068a2",
   "metadata": {},
   "source": [
    "•\tSeaborn box plot for each numeric column to identify any outliers."
   ]
  },
  {
   "cell_type": "code",
   "execution_count": 61,
   "id": "107e52cc",
   "metadata": {},
   "outputs": [
    {
     "name": "stdout",
     "output_type": "stream",
     "text": [
      "Numeric columns: Index(['year_added', 'month_added'], dtype='object')\n"
     ]
    },
    {
     "data": {
      "image/png": "[encoded data removed]",
      "text/plain": [
       "<Figure size 1200x800 with 2 Axes>"
      ]
     },
     "metadata": {},
     "output_type": "display_data"
    }
   ],
   "source": [
    "\n",
    "# Checking for numeric columns\n",
    "numeric_cols = df.select_dtypes(include=['number']).columns\n",
    "print(f\"Numeric columns: {numeric_cols}\")\n",
    "\n",
    "# Plotting box plots for each numeric column\n",
    "plt.figure(figsize=(12, 8))\n",
    "\n",
    "for i, col in enumerate(numeric_cols, 1):\n",
    "    plt.subplot(len(numeric_cols), 1, i)\n",
    "    sns.boxplot(x=df[col])\n",
    "    plt.title(f'Box plot of {col}')\n",
    "\n",
    "plt.tight_layout()\n",
    "plt.show()\n"
   ]
  },
  {
   "cell_type": "markdown",
   "id": "7956b3c3",
   "metadata": {},
   "source": [
    "# Insights and Business Recommendations"
   ]
  },
  {
   "cell_type": "markdown",
   "id": "ebe96f1d",
   "metadata": {},
   "source": [
    "Based on the exploratory data analysis performed on the Netflix dataset, here are some key insights and actionable business recommendations:"
   ]
  },
  {
   "cell_type": "markdown",
   "id": "b25950d5",
   "metadata": {},
   "source": [
    "# Insights:"
   ]
  },
  {
   "cell_type": "markdown",
   "id": "371cc904",
   "metadata": {},
   "source": [
    "# Dataset Overview:"
   ]
  },
  {
   "cell_type": "markdown",
   "id": "598d6a41",
   "metadata": {},
   "source": [
    "\n",
    "\n",
    "The dataset contains information about 8,807 movies and TV shows.\n",
    "There is a single numeric column, release_year, with the rest being categorical.\n",
    "\n",
    "\n",
    "Missing Values:\n",
    "\n",
    "The duration column had 3 missing values which were imputed.\n",
    "The rating column had missing values replaced with 'Not Available'.\n",
    "The date_added column had some missing values which were dropped before converting the column to datetime format.\n",
    "\n",
    "\n",
    "Content Release Years:\n",
    "\n",
    "The oldest content on Netflix dates back to 1925.\n",
    "The most recent content was released in 2021.\n",
    "\n",
    "\n",
    "Content Types:\n",
    "\n",
    "Netflix's catalog consists of two types of content: Movies and TV Shows.\n",
    "Movies make up a larger proportion of the content compared to TV Shows.\n",
    "\n",
    "\n",
    "Ratings Distribution:\n",
    "\n",
    "Netflix offers a variety of ratings for its content, including 'TV-MA', 'TV-14', 'R', 'PG-13', 'NR', and 'Not Rated'.\n",
    "'TV-MA' and 'TV-14' are the most common ratings for TV Shows, while 'R' and 'PG-13' are prevalent among movies.\n",
    "\n",
    "\n",
    "Country-wise Distribution:\n",
    "\n",
    "Content is available from 123 different countries, with the USA being the leading contributor.\n",
    "\n",
    "\n",
    "Director Contributions:\n",
    "\n",
    "Some directors have a higher number of contributions, with Michael Bay and Steven Spielberg among the notable ones.\n",
    "\n",
    "\n",
    "Null Values:\n",
    "\n",
    "Some columns still have null values even after initial cleaning. Specifically, cast, country, and director columns have significant missing values.\n",
    "\n",
    "\n",
    "Outliers:\n",
    "\n",
    "Box plots for the numeric column release_year reveal the presence of outliers. This could be due to old content being added to Netflix’s catalog, which is not necessarily a data quality issue but worth noting.\n",
    "\n",
    "\n"
   ]
  },
  {
   "cell_type": "markdown",
   "id": "ccffb4cb",
   "metadata": {},
   "source": [
    "# Business Recommendations:"
   ]
  },
  {
   "cell_type": "markdown",
   "id": "74a69779",
   "metadata": {},
   "source": [
    "\n",
    "Content Diversification:\n",
    "\n",
    "Continue to diversify the catalog by adding more international content to attract a global audience.\n",
    "Focus on regions with fewer contributions to balance the content distribution.\n",
    "\n",
    "\n",
    "Director Collaborations:\n",
    "\n",
    "Engage with directors who have significantly contributed to popular content. Offering exclusive deals or collaborations with such directors can boost the platform's appeal.\n",
    "\n",
    "\n",
    "Improve Data Completeness:\n",
    "\n",
    "Address the missing values in key columns like cast, country, and director to enhance data quality.\n",
    "Consider using advanced imputation techniques or gathering additional data to fill these gaps.\n",
    "\n",
    "\n",
    "Content Strategy:\n",
    "\n",
    "Use insights from release years and ratings distribution to guide future content acquisitions and productions. For example, there may be an opportunity to acquire or produce more content for underrepresented ratings.\n",
    "\n",
    "\n",
    "Targeted Marketing:\n",
    "\n",
    "Tailor marketing campaigns based on content type and ratings to different subscriber segments. For instance, highlight 'TV-MA' content to adult audiences while promoting 'PG-13' and 'TV-14' content to younger demographics.\n",
    "\n",
    "\n",
    "Focus on International Markets:\n",
    "\n",
    "Given the wide range of countries represented in the dataset, expanding marketing efforts and localization to these regions can help grow the subscriber base.\n",
    "\n",
    "\n",
    "Monitor and Manage Outliers:\n",
    "\n",
    "Regularly review outliers in the release_year data to ensure they are intentional additions to the catalog and not data entry errors.\n",
    "\n",
    "\n",
    "Enhance User Experience:\n",
    "\n",
    "Use the cleaned and enriched data to improve the recommendation algorithms, offering users a more personalized viewing experience based on their preferences and viewing history.\n",
    "\n",
    "\n",
    "\n",
    "\n",
    "\n",
    "\n",
    "\n",
    "\n",
    "\n"
   ]
  },
  {
   "cell_type": "markdown",
   "id": "daf65b8e",
   "metadata": {},
   "source": [
    "\n",
    "By leveraging these insights and recommendations, Netflix can continue to grow its platform, enhance user satisfaction, and maintain its position as a leading media and video streaming service."
   ]
  }
 ],
 "metadata": {
  "kernelspec": {
   "display_name": "Python 3 (ipykernel)",
   "language": "python",
   "name": "python3"
  },
  "language_info": {
   "codemirror_mode": {
    "name": "ipython",
    "version": 3
   },
   "file_extension": ".py",
   "mimetype": "text/x-python",
   "name": "python",
   "nbconvert_exporter": "python",
   "pygments_lexer": "ipython3",
   "version": "3.11.4"
  }
 },
 "nbformat": 4,
 "nbformat_minor": 5
}
